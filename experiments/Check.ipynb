{
 "cells": [
  {
   "cell_type": "markdown",
   "metadata": {},
   "source": [
    "# Check correctness on test data set\n",
    "## Check tools\n",
    "First we check we have the required tools."
   ]
  },
  {
   "cell_type": "code",
   "execution_count": null,
   "metadata": {},
   "outputs": [],
   "source": [
    "%run Tools.ipynb"
   ]
  },
  {
   "cell_type": "markdown",
   "metadata": {},
   "source": [
    "## Check formulae\n",
    "We check that the data_check and formulae directories exist."
   ]
  },
  {
   "cell_type": "code",
   "execution_count": null,
   "metadata": {},
   "outputs": [],
   "source": [
    "mkdir -p data_check formulae"
   ]
  },
  {
   "cell_type": "markdown",
   "metadata": {},
   "source": [
    "Now generate formulae if they are missing."
   ]
  },
  {
   "cell_type": "code",
   "execution_count": null,
   "metadata": {},
   "outputs": [],
   "source": [
    "import os\n",
    "if not os.path.exists('formulae/random_nd.ltl'):\n",
    "    %run Formulae.ipynb"
   ]
  },
  {
   "cell_type": "markdown",
   "metadata": {},
   "source": [
    "## Get tool chains\n",
    "Now we get the tool chains for PBSand Spot complementation via semi-determinization."
   ]
  },
  {
   "cell_type": "code",
   "execution_count": null,
   "metadata": {},
   "outputs": [],
   "source": [
    "from tools import get_tools\n",
    "from ltlcross_runner import LtlcrossRunner"
   ]
  },
  {
   "cell_type": "code",
   "execution_count": null,
   "metadata": {},
   "outputs": [],
   "source": [
    "### Tools ###\n",
    "tools = get_tools(full=False)\n",
    "\n",
    "print(tools)\n",
    "\n",
    "### Numbers to measure ###\n",
    "cols = ['states','edges','transitions','nondet_states','exit_status','time','acc']"
   ]
  },
  {
   "cell_type": "markdown",
   "metadata": {},
   "source": [
    "## Run ltlcross on test formulae\n",
    "Finally, we prepare and run the ltlcross runners for our test formulae."
   ]
  },
  {
   "cell_type": "code",
   "execution_count": null,
   "metadata": {},
   "outputs": [],
   "source": [
    "runners = {}\n",
    "for source in ('literature','random'):\n",
    "    for t in ('det','cd','sd','nd'):\n",
    "        name = '{}_{}'.format(source,t)\n",
    "        runners[name] = \\\n",
    "            LtlcrossRunner(tools,\\\n",
    "                    res_filename='data_check/{}.csv'.format(name),\\\n",
    "                    formula_files=['formulae/{}.ltl'.format(name)],\\\n",
    "                    cols=cols)"
   ]
  },
  {
   "cell_type": "code",
   "execution_count": null,
   "metadata": {},
   "outputs": [],
   "source": [
    "rerun = True"
   ]
  },
  {
   "cell_type": "code",
   "execution_count": null,
   "metadata": {},
   "outputs": [],
   "source": [
    "from datetime import datetime\n",
    "\n",
    "for name in runners.keys():\n",
    "    print('{}: Working on {}'.format(datetime.now().strftime('[%d.%m.%Y %T]'),name))\n",
    "    if rerun:\n",
    "        runners[name].run_ltlcross(timeout='120',\n",
    "                check=True)\n",
    "    runners[name].parse_results()"
   ]
  },
  {
   "cell_type": "code",
   "execution_count": null,
   "metadata": {},
   "outputs": [],
   "source": [
    "for name, r in runners.items():\n",
    "    print(f'{name} total timeouts: {r.get_error_count(err_type=\"timeout\")}')\n",
    "    print(f'{name} total incorrect: {r.get_error_count(err_type=\"incorrect\")}')"
   ]
  },
  {
   "cell_type": "code",
   "execution_count": null,
   "metadata": {},
   "outputs": [],
   "source": [
    "from ltlcross_runner import hunt_error_types\n",
    "\n",
    "for name in runners.keys():\n",
    "    print(f'{datetime.now().strftime(\"[%d.%m.%Y %T]\")}: Looking for errors in {name}')\n",
    "    errors, formulae, tools = hunt_error_types(f'data_check/{name}.log')\n",
    "    \n",
    "    if not errors:\n",
    "        print('No errors!')\n",
    "    else:\n",
    "        print(f'Errors: {errors}')\n",
    "        print(f'Problematic formulae: {formulae}')\n",
    "        print(f'Tools used: {tools}')"
   ]
  },
  {
   "cell_type": "markdown",
   "metadata": {},
   "source": [
    "## Run ltlcross on test automata\n",
    "Now we turn our attention to random automata generated for our evaluation."
   ]
  },
  {
   "cell_type": "markdown",
   "metadata": {},
   "source": [
    "## Automata check\n",
    "Again, we first check that the automata are already generated."
   ]
  },
  {
   "cell_type": "code",
   "execution_count": null,
   "metadata": {},
   "outputs": [],
   "source": [
    "mkdir -p data_check automata"
   ]
  },
  {
   "cell_type": "code",
   "execution_count": null,
   "metadata": {},
   "outputs": [],
   "source": [
    "import os\n",
    "if not os.path.exists('automata/random_ba.ltl'):\n",
    "    %run Automata.ipynb"
   ]
  },
  {
   "cell_type": "markdown",
   "metadata": {},
   "source": [
    "## Get automata tool chain\n",
    "Fetch the tool chain for testing on automata."
   ]
  },
  {
   "cell_type": "code",
   "execution_count": null,
   "metadata": {},
   "outputs": [],
   "source": [
    "### Tools ###\n",
    "tools = get_tools(full=False, automata=True)\n",
    "\n",
    "print(tools)\n",
    "\n",
    "### Numbers to measure ###\n",
    "cols = ['states','edges','transitions','nondet_states','exit_status','time','acc']"
   ]
  },
  {
   "cell_type": "markdown",
   "metadata": {},
   "source": [
    "## Run ltlcross on test automata\n",
    "Finally, we prepare and run the ltlcross runners for our test automata."
   ]
  },
  {
   "cell_type": "code",
   "execution_count": null,
   "metadata": {},
   "outputs": [],
   "source": [
    "runners = {}\n",
    "for aut_type in ['random_ba']:\n",
    "    name = '{}'.format(aut_type)\n",
    "    runners[name] = \\\n",
    "        LtlcrossRunner(tools,\\\n",
    "                res_filename='data_check/{}.csv'.format(name),\\\n",
    "                formula_files=['automata/{}.ltl'.format(name)],\\\n",
    "                cols=cols)"
   ]
  },
  {
   "cell_type": "code",
   "execution_count": null,
   "metadata": {},
   "outputs": [],
   "source": [
    "from datetime import datetime\n",
    "\n",
    "for name in runners.keys():\n",
    "    print('{}: Working on {}'.format(datetime.now().strftime('[%d.%m.%Y %T]'),name))\n",
    "    if True:\n",
    "        runners[name].run_ltlcross(timeout='120',\n",
    "                check=True)\n",
    "    runners[name].parse_results()"
   ]
  },
  {
   "cell_type": "code",
   "execution_count": null,
   "metadata": {},
   "outputs": [],
   "source": [
    "for name, r in runners.items():\n",
    "    print(f'{name} total timeouts: {r.get_error_count(err_type=\"timeout\")}')\n",
    "    print(f'{name} total incorrect: {r.get_error_count(err_type=\"incorrect\")}')"
   ]
  },
  {
   "cell_type": "code",
   "execution_count": null,
   "metadata": {},
   "outputs": [],
   "source": [
    "from ltlcross_runner import hunt_error_types\n",
    "\n",
    "for name in runners.keys():\n",
    "    print(f'{datetime.now().strftime(\"[%d.%m.%Y %T]\")}: Looking for errors in {name}')\n",
    "    errors, formulae, tools = hunt_error_types(f'data_check/{name}.log')\n",
    "    \n",
    "    if not errors:\n",
    "        print('No errors!')\n",
    "    else:\n",
    "        print(f'Errors: {errors}')\n",
    "        print(f'Problematic formulae: {formulae}')\n",
    "        print(f'Tools used: {tools}')"
   ]
  }
 ],
 "metadata": {
  "kernelspec": {
   "display_name": "Python 3",
   "language": "python",
   "name": "python3"
  },
  "language_info": {
   "codemirror_mode": {
    "name": "ipython",
    "version": 3
   },
   "file_extension": ".py",
   "mimetype": "text/x-python",
   "name": "python",
   "nbconvert_exporter": "python",
   "pygments_lexer": "ipython3",
   "version": "3.6.5"
  }
 },
 "nbformat": 4,
 "nbformat_minor": 2
}
