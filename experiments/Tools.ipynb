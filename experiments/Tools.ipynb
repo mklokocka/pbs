{
 "cells": [
  {
   "cell_type": "markdown",
   "metadata": {},
   "source": [
    "# Tool preparation\n",
    "## Check for Spot\n",
    "We need to check Spot is available on the system."
   ]
  },
  {
   "cell_type": "code",
   "execution_count": null,
   "metadata": {},
   "outputs": [],
   "source": [
    "%%bash\n",
    "autfilt --version\n",
    "genltl --version\n",
    "randltl --version\n",
    "ltlfilt --version\n",
    "ltl2tgba --version"
   ]
  },
  {
   "cell_type": "markdown",
   "metadata": {},
   "source": [
    "We also check that Spot Python bindings are ready to use."
   ]
  },
  {
   "cell_type": "code",
   "execution_count": null,
   "metadata": {},
   "outputs": [],
   "source": [
    "import spot\n",
    "spot.version()"
   ]
  },
  {
   "cell_type": "markdown",
   "metadata": {},
   "source": [
    "## Install Seminator\n",
    "We install Seminator for comparison with NCSB algorithm."
   ]
  },
  {
   "cell_type": "code",
   "execution_count": null,
   "metadata": {},
   "outputs": [],
   "source": [
    "%%bash\n",
    "cd tools/seminator\n",
    "make"
   ]
  },
  {
   "cell_type": "markdown",
   "metadata": {},
   "source": [
    "Now we check it is running."
   ]
  },
  {
   "cell_type": "code",
   "execution_count": null,
   "metadata": {},
   "outputs": [],
   "source": [
    "%%bash\n",
    "./tools/seminator/seminator --version"
   ]
  },
  {
   "cell_type": "markdown",
   "metadata": {},
   "source": [
    "## Buechic\n",
    "We look if Buechic exists in the `experiments/tools/Buechic` directory."
   ]
  },
  {
   "cell_type": "code",
   "execution_count": null,
   "metadata": {},
   "outputs": [],
   "source": [
    "out = !cd tools/buechic\n",
    "\n",
    "dir_exists = not out or \"no\" not in out[0]\n",
    "\n",
    "buechic = False\n",
    "\n",
    "if dir_exists:\n",
    "    out = !cd tools/buechic && java -jar buechic.jar -h\n",
    "    buechic = \"BuechiC\" in out[0]\n",
    "    \n",
    "%store buechic"
   ]
  },
  {
   "cell_type": "markdown",
   "metadata": {},
   "source": [
    "## Fribourg\n",
    "We check that GOAL exists in the `experiments/tools/goal` directory with the Fribourg plugin installed."
   ]
  },
  {
   "cell_type": "code",
   "execution_count": null,
   "metadata": {},
   "outputs": [],
   "source": [
    "test_aut = \"\"\"HOA: v1\n",
    "States: 1\n",
    "Start: 0\n",
    "AP: 1 \"p0\"\n",
    "acc-name: Buchi\n",
    "Acceptance: 1 Inf(0)\n",
    "properties: trans-labels explicit-labels state-acc\n",
    "--BODY--\n",
    "State: 0 {0}\n",
    "[0] 0\n",
    "--END--\n",
    "\"\"\"\n",
    "\n",
    "with open(\"tools/goal/test_aut.hoa\", \"w\") as f:\n",
    "    f.write(test_aut)"
   ]
  },
  {
   "cell_type": "code",
   "execution_count": null,
   "metadata": {},
   "outputs": [],
   "source": [
    "out = !cd tools/goal\n",
    "\n",
    "dir_exists = not out or \"no\" not in out[0]\n",
    "\n",
    "fribourg = False\n",
    "\n",
    "if dir_exists:\n",
    "    out = !cd tools/goal && ./gc batch 'complement -m fribourg test_aut.hoa;'\n",
    "    fribourg = \"FiniteStateAutomaton\" in out[1]\n",
    "\n",
    "%store fribourg"
   ]
  },
  {
   "cell_type": "code",
   "execution_count": null,
   "metadata": {},
   "outputs": [],
   "source": [
    "%%bash\n",
    "rm tools/goal/test_aut.hoa"
   ]
  }
 ],
 "metadata": {
  "kernelspec": {
   "display_name": "Python 3",
   "language": "python",
   "name": "python3"
  },
  "language_info": {
   "codemirror_mode": {
    "name": "ipython",
    "version": 3
   },
   "file_extension": ".py",
   "mimetype": "text/x-python",
   "name": "python",
   "nbconvert_exporter": "python",
   "pygments_lexer": "ipython3",
   "version": "3.6.5"
  }
 },
 "nbformat": 4,
 "nbformat_minor": 2
}
