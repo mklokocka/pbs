{
 "cells": [
  {
   "cell_type": "markdown",
   "metadata": {},
   "source": [
    "# Experimental evaluation of PBS\n",
    "## Check tools\n",
    "Make sure you have [Spot](https://spot.lrde.epita.fr/index.html) version 2.7.0 or greater installed in you system and that the commands `autfilt`, `genltl`, `randltl`, `ltlfilt`, `ltl2tgba` are available in your `PATH`."
   ]
  },
  {
   "cell_type": "code",
   "execution_count": null,
   "metadata": {},
   "outputs": [],
   "source": [
    "%run Tools.ipynb"
   ]
  },
  {
   "cell_type": "markdown",
   "metadata": {},
   "source": [
    "## Benchmark formulae preparation"
   ]
  },
  {
   "cell_type": "markdown",
   "metadata": {},
   "source": [
    "Run the [Formulae](Formulae.ipynb) notebook. For more information about the formulae consult the [notebook](Formulae.ipynb) directly."
   ]
  },
  {
   "cell_type": "code",
   "execution_count": null,
   "metadata": {},
   "outputs": [],
   "source": [
    "mkdir -p formulae"
   ]
  },
  {
   "cell_type": "code",
   "execution_count": null,
   "metadata": {},
   "outputs": [],
   "source": [
    "import os\n",
    "if not os.path.exists('formulae/random_nd.ltl'):\n",
    "    %run Formulae.ipynb"
   ]
  },
  {
   "cell_type": "markdown",
   "metadata": {},
   "source": [
    "## Automata preparation"
   ]
  },
  {
   "cell_type": "markdown",
   "metadata": {},
   "source": [
    "Run the [Automata](Automata.ipynb) notebook. For more information about the formulae consult the [notebook](Automata.ipynb) directly."
   ]
  },
  {
   "cell_type": "code",
   "execution_count": null,
   "metadata": {},
   "outputs": [],
   "source": [
    "mkdir -p automata"
   ]
  },
  {
   "cell_type": "code",
   "execution_count": null,
   "metadata": {},
   "outputs": [],
   "source": [
    "import os\n",
    "if not os.path.exists('automata/random_ba.ltl'):\n",
    "    %run Automata.ipynb"
   ]
  },
  {
   "cell_type": "markdown",
   "metadata": {},
   "source": [
    "## Run the Evaluation and Results"
   ]
  },
  {
   "cell_type": "markdown",
   "metadata": {},
   "source": [
    "The notebook [Comparison](Comparison.ipynb) and [Comparison_automata](Comparison_automata.ipynb) notebooks create tables that compare the different complementation algorithms. The compared algorithms are the following:\n",
    "\n",
    "- Seminator + NCSB implemented in Spot\n",
    "- Spot complementation via determinization (two variants, one with BA and one with TGBA results)\n",
    "- PBS\n",
    "- Potentially also Buechic and Fribourg.\n",
    "\n",
    "If you want to rerun the experiments by yourself, delete the `.csv` files with the results in the directory `data`,\n",
    "```ipython\n",
    "rm data/*.csv\n",
    "```\n",
    "or set the variable `rerun` to `True` in the second cell of the [Comparison](Comparison.ipynb) and [Comparison_automata](Comparison_automata.ipynb) notebooks and then run (either using the next cell, or in the notebook directly) it **[can take more then 1 hour]**.\n",
    "```python\n",
    "rerun = True```\n",
    "The [Comparison](Comparison.ipynb) notebook then creates 8 `.csv` files in the directory [`data`](data) that are used to create the tables and scatter plots. With `rerun = False` you rerun only the analysis.\n",
    "The [Comparison_automata](Comparison_automata.ipynb) notebook then creates 1 `.csv` file in the directory [`data`](data) that are used to create the tables and scatter plots. With `rerun = False` you rerun only the analysis."
   ]
  },
  {
   "cell_type": "code",
   "execution_count": null,
   "metadata": {},
   "outputs": [],
   "source": [
    "%run Comparison.ipynb"
   ]
  },
  {
   "cell_type": "code",
   "execution_count": null,
   "metadata": {},
   "outputs": [],
   "source": [
    "%run Comparison_automata.ipynb"
   ]
  },
  {
   "cell_type": "markdown",
   "metadata": {},
   "source": [
    "### Scatterplots\n",
    "Scatterplots are generated in LaTeX in [Comparison](Comparison.ipynb) and [Comparison_automata](Comparison_automata.ipynb) and saved in the directory `figures`."
   ]
  }
 ],
 "metadata": {
  "kernelspec": {
   "display_name": "Python 3",
   "language": "python",
   "name": "python3"
  },
  "language_info": {
   "codemirror_mode": {
    "name": "ipython",
    "version": 3
   },
   "file_extension": ".py",
   "mimetype": "text/x-python",
   "name": "python",
   "nbconvert_exporter": "python",
   "pygments_lexer": "ipython3",
   "version": "3.6.5"
  }
 },
 "nbformat": 4,
 "nbformat_minor": 2
}
