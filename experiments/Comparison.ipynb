{
 "cells": [
  {
   "cell_type": "code",
   "execution_count": null,
   "metadata": {},
   "outputs": [],
   "source": [
    "from datetime import datetime\n",
    "from tools import get_tools, get_tool_order\n",
    "from latex_tools import tool_names, sc_plot\n",
    "from ltlcross_runner import LtlcrossRunner\n",
    "from IPython.display import display, display_markdown\n",
    "import pandas as pd"
   ]
  },
  {
   "cell_type": "markdown",
   "metadata": {},
   "source": [
    "If `rerun` is set to `False` the script uses the precomputed values. If set to `True`, all values are recomputed\n",
    "(takes more time)"
   ]
  },
  {
   "cell_type": "code",
   "execution_count": null,
   "metadata": {},
   "outputs": [],
   "source": [
    "rerun = True"
   ]
  },
  {
   "cell_type": "markdown",
   "metadata": {},
   "source": [
    "Check if Buechic and Fribourg are installed."
   ]
  },
  {
   "cell_type": "code",
   "execution_count": null,
   "metadata": {},
   "outputs": [],
   "source": [
    "buechic = False\n",
    "fribourg = False\n",
    "\n",
    "# Refresh vars from store.\n",
    "%store -r"
   ]
  },
  {
   "cell_type": "code",
   "execution_count": null,
   "metadata": {},
   "outputs": [],
   "source": [
    "### Tools' setting ###\n",
    "tools = get_tools(use_buechic=buechic, use_fribourg=fribourg)\n",
    "tool_order = get_tool_order(use_buechic=buechic, use_fribourg=fribourg)\n",
    "\n",
    "\n",
    "### Numbers to measure ###\n",
    "cols = ['states','edges','transitions','nondet_states','exit_status','time','acc']"
   ]
  },
  {
   "cell_type": "code",
   "execution_count": null,
   "metadata": {},
   "outputs": [],
   "source": [
    "runners = {}\n",
    "for source in ('literature','random'):\n",
    "    for t in ('det','cd','sd','nd'):\n",
    "        name = '{}_{}'.format(source,t)\n",
    "        runners[name] = \\\n",
    "            LtlcrossRunner(tools,\\\n",
    "                    res_filename='data/{}.csv'.format(name),\\\n",
    "                    formula_files=['formulae/{}.ltl'.format(name)],\\\n",
    "                    cols=cols)"
   ]
  },
  {
   "cell_type": "code",
   "execution_count": null,
   "metadata": {},
   "outputs": [],
   "source": [
    "for name in runners.keys():\n",
    "    print('{}: Working on {}'.format(datetime.now().strftime('[%d.%m.%Y %T]'),name))\n",
    "    if rerun:\n",
    "        runners[name].run_ltlcross(timeout='120')\n",
    "    runners[name].parse_results()"
   ]
  },
  {
   "cell_type": "code",
   "execution_count": null,
   "metadata": {},
   "outputs": [],
   "source": [
    "def get_counts(r):\n",
    "    v = r.values.states.copy()\n",
    "    return v.dropna().count()[0]"
   ]
  },
  {
   "cell_type": "markdown",
   "metadata": {},
   "source": [
    "## Cummulative results"
   ]
  },
  {
   "cell_type": "markdown",
   "metadata": {},
   "source": [
    "Gather the data into one big DataFrame"
   ]
  },
  {
   "cell_type": "code",
   "execution_count": null,
   "metadata": {},
   "outputs": [],
   "source": [
    "data = pd.DataFrame()\n",
    "for (name,r) in runners.items():\n",
    "    row = pd.DataFrame(r.cummulative(),columns=[name]).transpose()\n",
    "    data = data.append(row)\n",
    "data"
   ]
  },
  {
   "cell_type": "markdown",
   "metadata": {},
   "source": [
    "Get the number of formulas such that all tools finished within timeout for each category."
   ]
  },
  {
   "cell_type": "code",
   "execution_count": null,
   "metadata": {},
   "outputs": [],
   "source": [
    "counts = pd.DataFrame(index=pd.Index([],name='source'),columns=['.n'])\n",
    "for (name,r) in runners.items():\n",
    "    c = get_counts(r)\n",
    "    counts = counts.append(pd.DataFrame({'.n':c},index=[name]))\n",
    "counts"
   ]
  },
  {
   "cell_type": "markdown",
   "metadata": {},
   "source": [
    "Converts the DataFrame to use MultiIndices for rows and columns"
   ]
  },
  {
   "cell_type": "code",
   "execution_count": null,
   "metadata": {},
   "outputs": [],
   "source": [
    "from pandas.api.types import CategoricalDtype\n",
    "automata_type = CategoricalDtype(categories=['det','cd','sd','nd'], ordered=True)\n",
    "source_type = CategoricalDtype(categories=['random', 'literature', 'rand. (T/O)', 'lit. (T/O)'], ordered=True)"
   ]
  },
  {
   "cell_type": "code",
   "execution_count": null,
   "metadata": {},
   "outputs": [],
   "source": [
    "def make_hierarchical(data):\n",
    "    # Split index into origin & ltl2tgba's output type\n",
    "    df = data.copy()\n",
    "    df.index.name = 'origin'\n",
    "    df.reset_index(inplace=True)\n",
    "    df['type'] = df.origin.apply(lambda x: x.split('_')[1]).astype(automata_type)\n",
    "    df['origin'] = df.origin.apply(lambda x: x.split('_')[0]).astype(source_type)\n",
    "    df = df.set_index(['origin','type']).sort_index()\n",
    "    # Split columns in tool & reductions\n",
    "    df.columns = pd.MultiIndex.from_tuples([tuple(c.split('.')) for c in df.columns])\n",
    "    return df"
   ]
  },
  {
   "cell_type": "code",
   "execution_count": null,
   "metadata": {},
   "outputs": [],
   "source": [
    "tmp = make_hierarchical(data.join(counts)).sort_index(axis=1)\n",
    "tmp"
   ]
  },
  {
   "cell_type": "code",
   "execution_count": null,
   "metadata": {},
   "outputs": [],
   "source": [
    "ordered = tmp[['']+tool_order]"
   ]
  },
  {
   "cell_type": "code",
   "execution_count": null,
   "metadata": {},
   "outputs": [],
   "source": [
    "ordered"
   ]
  },
  {
   "cell_type": "code",
   "execution_count": null,
   "metadata": {},
   "outputs": [],
   "source": [
    "!mkdir figures"
   ]
  },
  {
   "cell_type": "code",
   "execution_count": null,
   "metadata": {},
   "outputs": [],
   "source": [
    "with open(\"figures/ltl_table.fig\", \"w\") as f:\n",
    "    fixed_names = ordered.copy()\n",
    "    fixed_names.columns.set_levels([[tool_names.get(item, item) for item in names] if i==0 else names\n",
    "                                    for i, names in enumerate(fixed_names.columns.levels)], inplace=True)\n",
    "    \n",
    "    fixed = fixed_names.apply(pd.to_numeric, downcast=\"integer\")\n",
    "    \n",
    "    fixed.to_latex(buf=f, escape=False, sparsify=True)"
   ]
  },
  {
   "cell_type": "code",
   "execution_count": null,
   "metadata": {
    "scrolled": false
   },
   "outputs": [],
   "source": [
    "for name, r in [(name, r) for name, r in runners.items() if '_nd' in name]:\n",
    "    sc_plot(r, 'spot_ncsb.yes', 'pbs.yes', filename=f\"figures/{name}_ncsb_pbs.fig\", log=\"both\")\n",
    "    sc_plot(r, 'tgba_via_det.yes', 'pbs.yes', filename=f\"figures/{name}_spot_pbs.fig\", log=\"both\")\n",
    "    sc_plot(r, 'buechic.yes', 'pbs.yes', filename=f\"figures/{name}_buechic_pbs.fig\", log=\"both\")\n",
    "    sc_plot(r, 'fribourg.yes', 'pbs.yes', filename=f\"figures/{name}_fribourg_pbs.fig\", log=\"both\")"
   ]
  },
  {
   "cell_type": "markdown",
   "metadata": {},
   "source": [
    "## Timeouts"
   ]
  },
  {
   "cell_type": "code",
   "execution_count": null,
   "metadata": {},
   "outputs": [],
   "source": [
    "TO_data = pd.DataFrame()\n",
    "for (name,r) in runners.items():\n",
    "    TO_data = TO_data.append(pd.DataFrame(r.get_error_count(err_type='timeout'),columns=[name]).transpose(),sort=True)\n",
    "TO = make_hierarchical(TO_data).replace(0,pd.NaT).dropna(how='all').fillna(0)\n",
    "TO"
   ]
  },
  {
   "cell_type": "markdown",
   "metadata": {},
   "source": [
    "# Final results\n",
    "We use the `display` function to propagate the results to notebooks that just run this one."
   ]
  },
  {
   "cell_type": "code",
   "execution_count": null,
   "metadata": {},
   "outputs": [],
   "source": [
    "display_markdown('''### Comparison of tools producing complements of given automata\n",
    "Automata has been produced from formulae from literature and randomly generated.\n",
    "There has been several timeouts.\n",
    "''',raw=True)"
   ]
  },
  {
   "cell_type": "code",
   "execution_count": null,
   "metadata": {
    "scrolled": true
   },
   "outputs": [],
   "source": [
    "display(ordered)"
   ]
  },
  {
   "cell_type": "code",
   "execution_count": null,
   "metadata": {},
   "outputs": [],
   "source": [
    "display_markdown('''### Timeouts\n",
    "''',raw=True)"
   ]
  },
  {
   "cell_type": "code",
   "execution_count": null,
   "metadata": {},
   "outputs": [],
   "source": [
    "display(TO)"
   ]
  }
 ],
 "metadata": {
  "kernelspec": {
   "display_name": "Python 3",
   "language": "python",
   "name": "python3"
  },
  "language_info": {
   "codemirror_mode": {
    "name": "ipython",
    "version": 3
   },
   "file_extension": ".py",
   "mimetype": "text/x-python",
   "name": "python",
   "nbconvert_exporter": "python",
   "pygments_lexer": "ipython3",
   "version": "3.6.5"
  }
 },
 "nbformat": 4,
 "nbformat_minor": 2
}
